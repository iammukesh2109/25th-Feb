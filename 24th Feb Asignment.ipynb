{
 "cells": [
  {
   "cell_type": "code",
   "execution_count": 1,
   "id": "84ccd126-14a6-403b-86eb-305058d05104",
   "metadata": {},
   "outputs": [
    {
     "name": "stdout",
     "output_type": "stream",
     "text": [
      "Requirement already satisfied: pandas in /opt/conda/lib/python3.10/site-packages (1.5.1)\n",
      "Requirement already satisfied: python-dateutil>=2.8.1 in /opt/conda/lib/python3.10/site-packages (from pandas) (2.8.2)\n",
      "Requirement already satisfied: pytz>=2020.1 in /opt/conda/lib/python3.10/site-packages (from pandas) (2022.5)\n",
      "Requirement already satisfied: numpy>=1.21.0 in /opt/conda/lib/python3.10/site-packages (from pandas) (1.23.4)\n",
      "Requirement already satisfied: six>=1.5 in /opt/conda/lib/python3.10/site-packages (from python-dateutil>=2.8.1->pandas) (1.16.0)\n",
      "Note: you may need to restart the kernel to use updated packages.\n"
     ]
    }
   ],
   "source": [
    "pip install pandas"
   ]
  },
  {
   "cell_type": "code",
   "execution_count": 2,
   "id": "3bf41cad-463a-4248-84a0-5ca83ccbcea5",
   "metadata": {},
   "outputs": [],
   "source": [
    "import pandas as pd"
   ]
  },
  {
   "cell_type": "code",
   "execution_count": 3,
   "id": "9d5d6a11-57c1-45c1-b4d8-54aeb9311bce",
   "metadata": {},
   "outputs": [
    {
     "name": "stdout",
     "output_type": "stream",
     "text": [
      "   id  location_id  program_id accepted_payments alternate_name  \\\n",
      "0   1            1         NaN               NaN            NaN   \n",
      "1   2            2         NaN               NaN            NaN   \n",
      "2   3            3         NaN               NaN            NaN   \n",
      "3   4            4         NaN               NaN            NaN   \n",
      "4   5            5         NaN               NaN            NaN   \n",
      "\n",
      "                           application_process  \\\n",
      "0                   Walk in or apply by phone.   \n",
      "1           Apply by phone for an appointment.   \n",
      "2  Phone for information (403-4300 Ext. 4322).   \n",
      "3                              Apply by phone.   \n",
      "4                       Phone for information.   \n",
      "\n",
      "                                            audience  \\\n",
      "0  Older adults age 55 or over, ethnic minorities...   \n",
      "1       Residents of San Mateo County age 55 or over   \n",
      "2  Older adults age 55 or over who can benefit fr...   \n",
      "3  Parents, children, families with problems of c...   \n",
      "4  Low-income working families with children tran...   \n",
      "\n",
      "                                         description  \\\n",
      "0  A walk-in center for older adults that provide...   \n",
      "1  Provides training and job placement to eligibl...   \n",
      "2  Offers supportive counseling services to San M...   \n",
      "3  Provides supervised visitation services and a ...   \n",
      "4  Provides fixed 8% short term loans to eligible...   \n",
      "\n",
      "                                         eligibility email  ...  \\\n",
      "0  Age 55 or over for most programs, age 60 or ov...   NaN  ...   \n",
      "1  Age 55 or over, county resident and willing an...   NaN  ...   \n",
      "2        Resident of San Mateo County age 55 or over   NaN  ...   \n",
      "3                                               None   NaN  ...   \n",
      "4  Eligibility: Low-income family with legal cust...   NaN  ...   \n",
      "\n",
      "  interpretation_services                                           keywords  \\\n",
      "0                     NaN  ADULT PROTECTION AND CARE SERVICES, Meal Sites...   \n",
      "1                     NaN  EMPLOYMENT/TRAINING SERVICES, Job Development,...   \n",
      "2                     NaN  Geriatric Counseling, Older Adults, Gay, Lesbi...   \n",
      "3                     NaN  INDIVIDUAL AND FAMILY DEVELOPMENT SERVICES, Gr...   \n",
      "4                     NaN     COMMUNITY SERVICES, Speakers, Automobile Loans   \n",
      "\n",
      "  languages                               name required_documents  \\\n",
      "0       NaN    Fair Oaks Adult Activity Center                NaN   \n",
      "1       NaN   Second Career Employment Program                NaN   \n",
      "2       NaN             Senior Peer Counseling                NaN   \n",
      "3       NaN           Family Visitation Center                NaN   \n",
      "4       NaN  Economic Self-Sufficiency Program                NaN   \n",
      "\n",
      "      service_areas  status wait_time website taxonomy_ids  \n",
      "0             Colma  active  No wait.     NaN          NaN  \n",
      "1  San Mateo County  active   Varies.     NaN          NaN  \n",
      "2  San Mateo County  active   Varies.     NaN          NaN  \n",
      "3  San Mateo County  active  No wait.     NaN          NaN  \n",
      "4  San Mateo County  active       NaN     NaN          NaN  \n",
      "\n",
      "[5 rows x 22 columns]\n"
     ]
    }
   ],
   "source": [
    "#1.List any five functions of the pandas Library with execution.\n",
    "\"\"\"read_csv() - this function is used to read a CSV file and create a pandas DataFrame object. It takes the file path as input and returns a \n",
    "DataFrame object.\"\"\"\n",
    "import pandas as pd\n",
    "\n",
    "# Read the CSV file and create a DataFrame object\n",
    "data = pd.read_csv('services.csv')\n",
    "\n",
    "# Display the first five rows of the DataFrame\n",
    "print(data.head())\n"
   ]
  },
  {
   "cell_type": "code",
   "execution_count": 4,
   "id": "f6ba81c8-f1e4-4df8-99e8-8ed4cc4b5780",
   "metadata": {},
   "outputs": [
    {
     "name": "stdout",
     "output_type": "stream",
     "text": [
      "City\n",
      "London      39.5\n",
      "New York    25.0\n",
      "Paris       18.0\n",
      "Name: Age, dtype: float64\n"
     ]
    }
   ],
   "source": [
    "\"\"\"groupby() - this function is used to group rows in a DataFrame by a specified column or set of columns. It returns a DataFrameGroupBy object that \n",
    "can be used to perform various operations on the grouped data.\"\"\"\n",
    "import pandas as pd\n",
    "\n",
    "# Create a DataFrame with some sample data\n",
    "data = pd.DataFrame({'Name': ['Alice', 'Bob', 'Charlie', 'David', 'Emily'],\n",
    "                     'Age': [25, 32, 18, 47, 25],\n",
    "                     'City': ['New York', 'London', 'Paris', 'London', 'New York']})\n",
    "\n",
    "# Group the data by the 'City' column and calculate the average age for each city\n",
    "grouped_data = data.groupby('City')['Age'].mean()\n",
    "\n",
    "# Display the grouped data\n",
    "print(grouped_data)\n"
   ]
  },
  {
   "cell_type": "code",
   "execution_count": 5,
   "id": "3cd5edc3-1d26-4468-a30d-8f588fe9efee",
   "metadata": {},
   "outputs": [
    {
     "name": "stdout",
     "output_type": "stream",
     "text": [
      "   ID     Name  Age\n",
      "0   2      Bob   25\n",
      "1   3  Charlie   18\n"
     ]
    }
   ],
   "source": [
    "\"\"\"merge() - this function is used to merge two or more DataFrames based on a common column or index. It takes the DataFrames to merge as input and \n",
    "returns a new DataFrame object with the merged data.\"\"\"\n",
    "import pandas as pd\n",
    "\n",
    "# Create two DataFrames with some sample data\n",
    "data1 = pd.DataFrame({'ID': [1, 2, 3], 'Name': ['Alice', 'Bob', 'Charlie']})\n",
    "data2 = pd.DataFrame({'ID': [2, 3, 4], 'Age': [25, 18, 32]})\n",
    "\n",
    "# Merge the two DataFrames based on the 'ID' column\n",
    "merged_data = pd.merge(data1, data2, on='ID')\n",
    "\n",
    "# Display the merged DataFrame\n",
    "print(merged_data)\n"
   ]
  },
  {
   "cell_type": "code",
   "execution_count": 6,
   "id": "8bea6c87-36a2-42ec-9187-00addb4207d3",
   "metadata": {},
   "outputs": [],
   "source": [
    "#2.Given a pandas dataframe df with columns 'A' ,'B' and 'C' . Write a python function to re-index the dataframe with a new index that starts from\n",
    "#1 and increments by 2 for each row.\n",
    "import pandas as pd\n",
    "\n",
    "def reindex_dataframe(df):\n",
    "    # Create a new index that starts from 1 and increments by 2 for each row\n",
    "    new_index = pd.Index(range(1, len(df) * 2, 2))\n",
    "    \n",
    "    # Set the new index on the DataFrame\n",
    "    df = df.set_index(new_index)\n",
    "    \n",
    "    # Return the re-indexed DataFrame\n",
    "    return df\n"
   ]
  },
  {
   "cell_type": "code",
   "execution_count": 7,
   "id": "e994e236-3b2c-43ec-a99c-f3d5a5319a05",
   "metadata": {},
   "outputs": [
    {
     "name": "stdout",
     "output_type": "stream",
     "text": [
      "Original DataFrame:\n",
      "   A  B  C\n",
      "0  1  4  7\n",
      "1  2  5  8\n",
      "2  3  6  9\n",
      "\n",
      "Re-indexed DataFrame:\n",
      "   A  B  C\n",
      "1  1  4  7\n",
      "3  2  5  8\n",
      "5  3  6  9\n"
     ]
    }
   ],
   "source": [
    "import pandas as pd\n",
    "\n",
    "# Create a sample DataFrame\n",
    "df = pd.DataFrame({'A': [1, 2, 3], 'B': [4, 5, 6], 'C': [7, 8, 9]})\n",
    "\n",
    "# Re-index the DataFrame with a new index that starts from 1 and increments by 2 for each row\n",
    "df_new = reindex_dataframe(df)\n",
    "\n",
    "# Display the original and re-indexed DataFrames\n",
    "print('Original DataFrame:')\n",
    "print(df)\n",
    "print('\\nRe-indexed DataFrame:')\n",
    "print(df_new)\n"
   ]
  },
  {
   "cell_type": "code",
   "execution_count": 1,
   "id": "769d1708-4c02-4932-8870-4e6c4b07e53e",
   "metadata": {},
   "outputs": [],
   "source": [
    "#3. You have a pandas dataframe df with a column named 'Values'. Write a python function that iterates over the dataframe and calculates the sum of \n",
    "#the first three values in the 'Values' column. The function should print the sum to the console.\n",
    "#For example, if the 'Values' column of df contains the values[10,20,30,40,50] your function should calculate the sum of the first three values, which\n",
    "#is 60.\n",
    "import pandas as pd\n",
    "\n",
    "def sum_first_three_values(df):\n",
    "    values_sum = df['Values'].iloc[:3].sum()\n",
    "    print(\"The sum of the first three values is:\", values_sum)\n"
   ]
  },
  {
   "cell_type": "code",
   "execution_count": 2,
   "id": "bdae268a-64e6-4752-8149-bffac0da3d1f",
   "metadata": {},
   "outputs": [
    {
     "name": "stdout",
     "output_type": "stream",
     "text": [
      "The sum of the first three values is: 60\n"
     ]
    }
   ],
   "source": [
    "df = pd.DataFrame({'Values': [10, 20, 30, 40, 50]})\n",
    "sum_first_three_values(df)\n"
   ]
  },
  {
   "cell_type": "code",
   "execution_count": 3,
   "id": "c1df8252-64fa-4d12-b883-00f9cde626e3",
   "metadata": {},
   "outputs": [],
   "source": [
    "#4.Given a pandas dataframe df with a column 'Text' , write a python function to create a new column 'Word_Count' that contains the number of words \n",
    "#in each row of the 'Text' column.\n",
    "import pandas as pd\n",
    "\n",
    "def add_word_count_column(df):\n",
    "    # Define a function to count the number of words in a string\n",
    "    def word_count(text):\n",
    "        return len(text.split())\n",
    "    \n",
    "    # Apply the word_count function to each row of the 'Text' column\n",
    "    df['Word_Count'] = df['Text'].apply(lambda x: word_count(x))\n",
    "    return df\n"
   ]
  },
  {
   "cell_type": "code",
   "execution_count": 4,
   "id": "d3818faa-02bb-4698-9762-bde87d04f717",
   "metadata": {},
   "outputs": [
    {
     "name": "stdout",
     "output_type": "stream",
     "text": [
      "                     Text  Word_Count\n",
      "0   This is the first row           5\n",
      "1  This is the second row           5\n",
      "2   This is the third row           5\n"
     ]
    }
   ],
   "source": [
    "df = pd.DataFrame({'Text': ['This is the first row', 'This is the second row', 'This is the third row']})\n",
    "df = add_word_count_column(df)\n",
    "print(df)\n"
   ]
  },
  {
   "cell_type": "code",
   "execution_count": 1,
   "id": "6e7c1274-6cfe-46a3-9db5-27390c9c1500",
   "metadata": {},
   "outputs": [
    {
     "name": "stdout",
     "output_type": "stream",
     "text": [
      "6\n",
      "(3, 2)\n"
     ]
    }
   ],
   "source": [
    "#5.How are DataFrame.size() and DataFrame.shape() different?\n",
    "\"\"\"DataFrame.size and DataFrame.shape are both pandas DataFrame methods, but they return different information about the DataFrame.\n",
    "\n",
    "DataFrame.size returns the total number of elements in the DataFrame, which is equal to the number of rows times the number of columns. It is a single\n",
    "integer value.\n",
    "\n",
    "DataFrame.shape returns a tuple that contains the number of rows and columns in the DataFrame, respectively. It provides two separate values that \n",
    "describe the dimensions of the DataFrame.\n",
    "\n",
    "Here's an example to illustrate the difference between DataFrame.size and DataFrame.shape:\"\"\"\n",
    "import pandas as pd\n",
    "\n",
    "df = pd.DataFrame({'A': [1, 2, 3], 'B': [4, 5, 6]})\n",
    "print(df.size)     \n",
    "print(df.shape)    \n"
   ]
  },
  {
   "cell_type": "code",
   "execution_count": 2,
   "id": "0734cf36-6383-4f81-9572-c0aa97757336",
   "metadata": {},
   "outputs": [
    {
     "data": {
      "text/plain": [
       "\"To read an Excel file using pandas, we can use the read_excel() function.\\n   Here's an example:\\nimport pandas as pd\\n\\n# read the Excel file into a pandas DataFrame\\ndf = pd.read_excel('filename.xlsx')\\n\\n# print the DataFrame\\nprint(df)\""
      ]
     },
     "execution_count": 2,
     "metadata": {},
     "output_type": "execute_result"
    }
   ],
   "source": [
    "#6.How function of pandas do we use to read an excel file?\n",
    "\"\"\"To read an Excel file using pandas, we can use the read_excel() function.\n",
    "   Here's an example:\n",
    "import pandas as pd\n",
    "\n",
    "# read the Excel file into a pandas DataFrame\n",
    "df = pd.read_excel('filename.xlsx')\n",
    "\n",
    "# print the DataFrame\n",
    "print(df)\"\"\"\n"
   ]
  },
  {
   "cell_type": "code",
   "execution_count": 5,
   "id": "458d34e0-530d-4a25-9cf8-9e8d86764ec4",
   "metadata": {},
   "outputs": [
    {
     "data": {
      "text/plain": [
       "\"def extract_username(df):\\n    # extract username from each email address using string splitting\\n    df['Username'] = df['Email'].str.split('@').str[0]\\n    return df\\n\\nnew_df = extract_username(df)\""
      ]
     },
     "execution_count": 5,
     "metadata": {},
     "output_type": "execute_result"
    }
   ],
   "source": [
    "#7. You have a Pandas DataFrame df that contains a column named 'Email' that contains email addresses in the format 'username@domain.com'. Write a \n",
    "#Python function that creates a new column 'Username' in df that contains only the username part of each email address.\n",
    "#The username is the part of the email address that appears before the '@' symbol. For example, if the email address is 'john.doe@example.com', the \n",
    "#'Username' column should contain 'john.doe'. Your function should extract the username from each email address and store it in the new 'Username' \n",
    "#column\n",
    "\"\"\"def extract_username(df):\n",
    "    # extract username from each email address using string splitting\n",
    "    df['Username'] = df['Email'].str.split('@').str[0]\n",
    "    return df\n",
    "\n",
    "new_df = extract_username(df)\"\"\""
   ]
  },
  {
   "cell_type": "code",
   "execution_count": 6,
   "id": "f8616be5-bfae-4617-b3d9-8e77148da23e",
   "metadata": {},
   "outputs": [
    {
     "data": {
      "text/plain": [
       "\"all rows where the value in column 'A' is greater than 5 and the value in column 'B' is less than 10. The \\nfunction should return a new DataFrame that contains only the selected rows.\\n\\nFor example, if df contains the following values:\\n\\n   A   B   C\\n\\n0  3   5   1\\n\\n1  8   2   7\\n\\n2  6   9   4\\n\\n3  2   3   5\\n\\n4  9   1   2\\nYour function should select the following rows:   A   B   C\\n\\n1  8   2   7\\n\\n4  9   1   2\\n\\nThe function should return a new DataFrame that contains only the selected rows.\""
      ]
     },
     "execution_count": 6,
     "metadata": {},
     "output_type": "execute_result"
    }
   ],
   "source": [
    "#8. You have a Pandas DataFrame df with columns 'A', 'B', and 'C'. Write a Python function that selects \n",
    "\"\"\"all rows where the value in column 'A' is greater than 5 and the value in column 'B' is less than 10. The \n",
    "function should return a new DataFrame that contains only the selected rows.\n",
    "\n",
    "For example, if df contains the following values:\n",
    "\n",
    "   A   B   C\n",
    "\n",
    "0  3   5   1\n",
    "\n",
    "1  8   2   7\n",
    "\n",
    "2  6   9   4\n",
    "\n",
    "3  2   3   5\n",
    "\n",
    "4  9   1   2\n",
    "Your function should select the following rows:  \n",
    "   A   B   C\n",
    "\n",
    "1  8   2   7\n",
    "\n",
    "4  9   1   2\n",
    "\n",
    "The function should return a new DataFrame that contains only the selected rows.\"\"\""
   ]
  },
  {
   "cell_type": "code",
   "execution_count": 15,
   "id": "3ffa1ea6-dfc8-4832-807f-ac2cb6d1d044",
   "metadata": {},
   "outputs": [
    {
     "name": "stdout",
     "output_type": "stream",
     "text": [
      "   A  B  C\n",
      "1  8  2  7\n",
      "4  9  1  2\n"
     ]
    }
   ],
   "source": [
    "import pandas as pd\n",
    "\n",
    "# create the example DataFrame\n",
    "df = pd.DataFrame({'A': [3, 8, 6, 2, 9],\n",
    "                   'B': [5, 2, 9, 3, 1],\n",
    "                   'C': [1, 7, 4, 5, 2]})\n",
    "\n",
    "# define the select_rows function\n",
    "def select_rows(df):\n",
    "    # use boolean indexing to select rows where A > 5 and B < 10\n",
    "    selected_rows = df[(df['A'] > 5) & (df['B'] < 10)]\n",
    "\n",
    "    return selected_rows\n",
    "\n",
    "# call the select_rows function with the example DataFrame\n",
    "selected_df = select_rows(df[1:5:3])\n",
    "\n",
    "# print the selected DataFrame\n",
    "print(selected_df)\n"
   ]
  },
  {
   "cell_type": "code",
   "execution_count": null,
   "id": "33178df6-cb79-4023-9c8f-b5211cc9ce29",
   "metadata": {},
   "outputs": [],
   "source": [
    "#9.Given a Pandas DataFrame df with a column 'Values', write a Python function to calculate the mean, median, and standard deviation of the values in\n",
    "#the 'Values' column."
   ]
  },
  {
   "cell_type": "code",
   "execution_count": 17,
   "id": "2b2e77e0-692b-45be-a3c4-8a9e1e11188d",
   "metadata": {},
   "outputs": [
    {
     "name": "stdout",
     "output_type": "stream",
     "text": [
      "Mean: 39.65\n",
      "Median: 6.0\n",
      "Standard deviation: 120.65055019832234\n"
     ]
    }
   ],
   "source": [
    "import pandas as pd\n",
    "\n",
    "# create a sample DataFrame with random values\n",
    "df = pd.DataFrame({\n",
    "    'Values': (0,1,2,3,4,5,6,7,8,9,0,12,3,4,543,22,13,45,6,100)\n",
    "})\n",
    "\n",
    "# define the function to calculate statistics\n",
    "def calculate_stats(df):\n",
    "    mean = df['Values'].mean()\n",
    "    median = df['Values'].median()\n",
    "    std = df['Values'].std()\n",
    "    return mean, median, std\n",
    "\n",
    "# call the function to calculate statistics\n",
    "mean, median, std = calculate_stats(df)\n",
    "\n",
    "# print the results\n",
    "print(\"Mean:\", mean)\n",
    "print(\"Median:\", median)\n",
    "print(\"Standard deviation:\", std)\n"
   ]
  },
  {
   "cell_type": "code",
   "execution_count": 4,
   "id": "ad404c96-8e0a-461c-a056-3250767b7528",
   "metadata": {},
   "outputs": [],
   "source": [
    "#10. Given a Pandas DataFrame df with a column 'Sales' and a column 'Date', write a Python function to create a new column 'MovingAverage' that \n",
    "#contains the moving average of the sales for the past 7 days for each row in the DataFrame. The moving average should be calculated using a window \n",
    "#of size 7 and should include the current day."
   ]
  },
  {
   "cell_type": "code",
   "execution_count": 5,
   "id": "74662559-ff60-427b-a253-9ba17adf51e6",
   "metadata": {},
   "outputs": [],
   "source": [
    "def add_moving_average(df):\n",
    "    # create a new column 'MovingAverage' with the moving average of the 'Sales' column\n",
    "    df['MovingAverage'] = df['Sales'].rolling(window=7, min_periods=1).mean()\n",
    "\n",
    "    return df\n"
   ]
  },
  {
   "cell_type": "code",
   "execution_count": 6,
   "id": "2b2ddd78-8005-4765-951e-c62b1ee660e0",
   "metadata": {},
   "outputs": [
    {
     "name": "stdout",
     "output_type": "stream",
     "text": [
      "   Sales       Date  MovingAverage\n",
      "0     10 2022-01-01           10.0\n",
      "1     20 2022-01-02           15.0\n",
      "2     30 2022-01-03           20.0\n",
      "3     40 2022-01-04           25.0\n",
      "4     50 2022-01-05           30.0\n",
      "5     60 2022-01-06           35.0\n",
      "6     70 2022-01-07           40.0\n",
      "7     80 2022-01-08           50.0\n",
      "8     90 2022-01-09           60.0\n",
      "9    100 2022-01-10           70.0\n"
     ]
    }
   ],
   "source": [
    "import pandas as pd\n",
    "\n",
    "# create a sample DataFrame with 'Sales' and 'Date' columns\n",
    "df = pd.DataFrame({\n",
    "    'Sales': [10, 20, 30, 40, 50, 60, 70, 80, 90, 100],\n",
    "    'Date': pd.date_range('2022-01-01', periods=10, freq='D')\n",
    "})\n",
    "\n",
    "# call the 'add_moving_average' function to add a new column 'MovingAverage'\n",
    "df = add_moving_average(df)\n",
    "\n",
    "# print the updated DataFrame with 'MovingAverage' column\n",
    "print(df)\n"
   ]
  },
  {
   "cell_type": "code",
   "execution_count": 7,
   "id": "1fa3d865-5596-43a1-8091-a9f4e7b2b7c7",
   "metadata": {},
   "outputs": [
    {
     "data": {
      "text/plain": [
       "\"The 'Weekday' column should contain the weekday name (e.g. Monday, Tuesday) corresponding to each date in the 'Date' column.\\nFor example, if df contains the following values:\\n\\n         Date\\n\\n0  2023-01-01\\n\\n1  2023-01-02\\n\\n2  2023-01-03\\n\\n3  2023-01-04\\n\\n4  2023-01-05\\n\\nYour function should create the following DataFrame:\\n\\n\\n         Date    Weekday\\n\\n0  2023-01-01    Sunday\\n\\n1  2023-01-02     Monday\\n\\n2  2023-01-03    Tuesday\\n\\n3  2023-01-04    Wednesday\\n\\n4  2023-01-05    Thursday\\n\\nThe function should return the modified DataFrame.\""
      ]
     },
     "execution_count": 7,
     "metadata": {},
     "output_type": "execute_result"
    }
   ],
   "source": [
    "#11. You have a Pandas DataFrame df with a column 'Date'. Write a Python function that creates a new column 'Weekday' in the DataFrame. \n",
    "\"\"\"The 'Weekday' column should contain the weekday name (e.g. Monday, Tuesday) corresponding to each date in the 'Date' column.\n",
    "For example, if df contains the following values:\n",
    "\n",
    "         Date\n",
    "\n",
    "0  2023-01-01\n",
    "\n",
    "1  2023-01-02\n",
    "\n",
    "2  2023-01-03\n",
    "\n",
    "3  2023-01-04\n",
    "\n",
    "4  2023-01-05\n",
    "\n",
    "Your function should create the following DataFrame:\n",
    "\n",
    "\n",
    "         Date    Weekday\n",
    "\n",
    "0  2023-01-01    Sunday\n",
    "\n",
    "1  2023-01-02     Monday\n",
    "\n",
    "2  2023-01-03    Tuesday\n",
    "\n",
    "3  2023-01-04    Wednesday\n",
    "\n",
    "4  2023-01-05    Thursday\n",
    "\n",
    "The function should return the modified DataFrame.\"\"\""
   ]
  },
  {
   "cell_type": "code",
   "execution_count": 8,
   "id": "6e01d626-7c7e-410f-aa65-a1f1b9b8990b",
   "metadata": {},
   "outputs": [],
   "source": [
    "import pandas as pd\n",
    "from datetime import datetime\n",
    "\n",
    "def add_weekday_column(df):\n",
    "    # Convert the 'Date' column to datetime format\n",
    "    df['Date'] = pd.to_datetime(df['Date'])\n",
    "\n",
    "    # Create a new column 'Weekday' containing the weekday name\n",
    "    df['Weekday'] = df['Date'].apply(lambda x: datetime.strftime(x, '%A'))\n",
    "\n",
    "    # Return the modified DataFrame\n",
    "    return df\n"
   ]
  },
  {
   "cell_type": "code",
   "execution_count": 9,
   "id": "a242ffe6-28ed-4507-b50a-dd01bddad3e8",
   "metadata": {},
   "outputs": [
    {
     "name": "stdout",
     "output_type": "stream",
     "text": [
      "        Date    Weekday\n",
      "0 2023-01-01     Sunday\n",
      "1 2023-01-02     Monday\n",
      "2 2023-01-03    Tuesday\n",
      "3 2023-01-04  Wednesday\n",
      "4 2023-01-05   Thursday\n"
     ]
    }
   ],
   "source": [
    "import pandas as pd\n",
    "\n",
    "# Create a sample DataFrame\n",
    "df = pd.DataFrame({'Date': ['2023-01-01', '2023-01-02', '2023-01-03', '2023-01-04', '2023-01-05']})\n",
    "\n",
    "# Call the function to add the 'Weekday' column\n",
    "df = add_weekday_column(df)\n",
    "\n",
    "# Print the modified DataFrame\n",
    "print(df)\n"
   ]
  },
  {
   "cell_type": "code",
   "execution_count": null,
   "id": "6c83e2fd-2fcd-4adb-bf62-b282a267a0ae",
   "metadata": {},
   "outputs": [],
   "source": [
    "#12.12. Given a Pandas DataFrame df with a column 'Date' that contains timestamps, write a Python function to select all rows where the date is \n",
    "#between '2023-01-01' and '2023-01-31'."
   ]
  },
  {
   "cell_type": "code",
   "execution_count": 14,
   "id": "746c9d21-8aff-48e9-bc64-2b8c48368e28",
   "metadata": {},
   "outputs": [
    {
     "name": "stdin",
     "output_type": "stream",
     "text": [
      "Enter start date (yyyy-mm-dd):  2023-01-01\n",
      "Enter end date (yyyy-mm-dd):  2023-01-31\n"
     ]
    },
    {
     "name": "stdout",
     "output_type": "stream",
     "text": [
      "         Date  Value\n",
      "0  2023-01-01      1\n",
      "1  2023-01-02      2\n",
      "2  2023-01-03      3\n",
      "3  2023-01-04      4\n",
      "4  2023-01-05      5\n",
      "5  2023-01-06      6\n",
      "6  2023-01-07      7\n",
      "7  2023-01-08      8\n",
      "8  2023-01-09      9\n",
      "9  2023-01-10     10\n",
      "10 2023-01-11     11\n",
      "11 2023-01-12     12\n",
      "12 2023-01-13     13\n",
      "13 2023-01-14     14\n",
      "14 2023-01-15     15\n",
      "15 2023-01-16     16\n",
      "16 2023-01-17     17\n",
      "17 2023-01-18     18\n",
      "18 2023-01-19     19\n",
      "19 2023-01-20     20\n",
      "20 2023-01-21     21\n",
      "21 2023-01-22     22\n",
      "22 2023-01-23     23\n",
      "23 2023-01-24     24\n",
      "24 2023-01-25     25\n",
      "25 2023-01-26     26\n",
      "26 2023-01-27     27\n",
      "27 2023-01-28     28\n",
      "28 2023-01-29     29\n",
      "29 2023-01-30     30\n",
      "30 2023-01-31     31\n"
     ]
    }
   ],
   "source": [
    "import pandas as pd\n",
    "\n",
    "# create a sample DataFrame\n",
    "df = pd.DataFrame({\n",
    "    'Date': pd.date_range(start='2023-01-01', end='2023-01-31', freq='D'),\n",
    "    'Value': range(1, 32)\n",
    "})\n",
    "\n",
    "# define the function to select rows between two dates\n",
    "def select_rows_between_dates(df, start_date, end_date):\n",
    "    start_date = pd.to_datetime(start_date)\n",
    "    end_date = pd.to_datetime(end_date)\n",
    "    mask = df['Date'].between(start_date, end_date)\n",
    "    return df.loc[mask]\n",
    "\n",
    "# get user input for start and end dates\n",
    "start_date = input(\"Enter start date (yyyy-mm-dd): \")\n",
    "end_date = input(\"Enter end date (yyyy-mm-dd): \")\n",
    "\n",
    "# call the function to select rows between the specified dates\n",
    "selected_rows = select_rows_between_dates(df, start_date, end_date)\n",
    "\n",
    "# print the selected rows\n",
    "print(selected_rows)\n"
   ]
  },
  {
   "cell_type": "code",
   "execution_count": 15,
   "id": "9ebf13f0-ca68-4d7a-bd45-b15b508ec0fd",
   "metadata": {},
   "outputs": [],
   "source": [
    "#13.To use the basic functions of pandas, what is the first and foremost necessary library that needs to be imported.\n",
    "\"\"\"To use the basic functions of Pandas, the first and foremost necessary library that needs to be imported is pandas itself. We can import it using\n",
    "the import statement. This statement imports the Pandas library and assigns it the alias pd. The pd alias is commonly used in the Pandas community and\n",
    "makes it easier to refer to Pandas functions and objects in your code. Once you've imported the pandas library, you can start using its functions and\n",
    "objects to work with tabular data.\"\"\"\n",
    "import pandas as pd"
   ]
  },
  {
   "cell_type": "code",
   "execution_count": null,
   "id": "38c74ee9-e504-4d58-ae05-c4060e45f8c1",
   "metadata": {},
   "outputs": [],
   "source": []
  }
 ],
 "metadata": {
  "kernelspec": {
   "display_name": "Python 3 (ipykernel)",
   "language": "python",
   "name": "python3"
  },
  "language_info": {
   "codemirror_mode": {
    "name": "ipython",
    "version": 3
   },
   "file_extension": ".py",
   "mimetype": "text/x-python",
   "name": "python",
   "nbconvert_exporter": "python",
   "pygments_lexer": "ipython3",
   "version": "3.10.6"
  }
 },
 "nbformat": 4,
 "nbformat_minor": 5
}
